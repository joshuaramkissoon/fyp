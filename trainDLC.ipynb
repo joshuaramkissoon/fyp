{
  "nbformat": 4,
  "nbformat_minor": 0,
  "metadata": {
    "colab": {
      "name": "trainDLC.ipynb",
      "provenance": [],
      "collapsed_sections": []
    },
    "kernelspec": {
      "name": "python3",
      "display_name": "Python 3"
    }
  },
  "cells": [
    {
      "cell_type": "markdown",
      "metadata": {
        "id": "nf-MzRXYn_Z4",
        "colab_type": "text"
      },
      "source": [
        "# DeepLabCut for markerless pose estimation"
      ]
    },
    {
      "cell_type": "code",
      "metadata": {
        "id": "K2SEy9iz9EyQ",
        "colab_type": "code",
        "colab": {}
      },
      "source": [
        "!pip install deeplabcut"
      ],
      "execution_count": 0,
      "outputs": []
    },
    {
      "cell_type": "code",
      "metadata": {
        "id": "2hQ-t_nu9OuA",
        "colab_type": "code",
        "colab": {}
      },
      "source": [
        "%tensorflow_version 1.x"
      ],
      "execution_count": 0,
      "outputs": []
    },
    {
      "cell_type": "code",
      "metadata": {
        "id": "2-zndCLv9SS8",
        "colab_type": "code",
        "colab": {}
      },
      "source": [
        "# Mount Google Drive\n",
        "from google.colab import drive\n",
        "drive.mount('/content/drive', force_remount=True)"
      ],
      "execution_count": 0,
      "outputs": []
    },
    {
      "cell_type": "code",
      "metadata": {
        "id": "I3n_sm839hHK",
        "colab_type": "code",
        "colab": {}
      },
      "source": [
        "ProjectFolderName = 'orientation-invariant-joshua-2020-06-04'\n",
        "VideoType = 'mov'\n",
        "\n",
        "# Folder of videos or video to analyse\n",
        "videofile_path = ['/content/drive/My Drive/fyp/'+ProjectFolderName+'/videos/'] #Enter the list of videos or folder to analyze.\n"
      ],
      "execution_count": 0,
      "outputs": []
    },
    {
      "cell_type": "code",
      "metadata": {
        "id": "gMijldHt-CpK",
        "colab_type": "code",
        "colab": {}
      },
      "source": [
        "import os\n",
        "os.environ['DLClight']= 'True'"
      ],
      "execution_count": 0,
      "outputs": []
    },
    {
      "cell_type": "code",
      "metadata": {
        "id": "njVTVboV-RLJ",
        "colab_type": "code",
        "colab": {}
      },
      "source": [
        "import deeplabcut"
      ],
      "execution_count": 0,
      "outputs": []
    },
    {
      "cell_type": "code",
      "metadata": {
        "id": "TJL5la5W-ODq",
        "colab_type": "code",
        "colab": {}
      },
      "source": [
        "# Path to config file\n",
        "path_config_file = '/content/drive/My Drive/fyp/'+ProjectFolderName+'/config.yaml'\n",
        "path_config_file\n"
      ],
      "execution_count": 0,
      "outputs": []
    },
    {
      "cell_type": "markdown",
      "metadata": {
        "id": "HNMDhS84-cXH",
        "colab_type": "text"
      },
      "source": [
        "# Create training dataset"
      ]
    },
    {
      "cell_type": "code",
      "metadata": {
        "id": "x9zdv_0AgpFr",
        "colab_type": "code",
        "colab": {}
      },
      "source": [
        "import numpy as np\n",
        "import math"
      ],
      "execution_count": 0,
      "outputs": []
    },
    {
      "cell_type": "code",
      "metadata": {
        "id": "rdWTbcMZGX1j",
        "colab_type": "code",
        "colab": {}
      },
      "source": [
        "def removeElementsStartingAtIndex(arr, lower, numel):\n",
        "  # [0,1,2,3,4,5,6,7,8,9,10] remove lower=3, numel=3\n",
        "  # returns [0,1,2,6,7,8,9,10]\n",
        "  return arr[:lower] + arr[lower+numel:]\n",
        "\n",
        "def removeElementsInArr(arr, lowerList, numel):\n",
        "  '''\n",
        "  Removes a specified number of elements in arr starting at corresponding elements in lowerList\n",
        "  '''\n",
        "  new_arr = np.array(arr,dtype='int')\n",
        "  for index,lower in enumerate(lowerList):\n",
        "    removeElements = [i for i in range(lower, lower+numel[index])]\n",
        "    for x in removeElements:\n",
        "      new_arr = np.delete(new_arr, np.argwhere(new_arr == x))\n",
        "  return new_arr\n",
        "\n",
        "def makeKFoldSplit(k, numElements):\n",
        "  '''\n",
        "  Make k-fold cross val split\n",
        "  '''\n",
        "  allinds = [i for i in range(numElements)]\n",
        "  test_splits = []\n",
        "  train_splits = []\n",
        "  trainfrac = 1 - 1/k\n",
        "  num_test = math.ceil((1 - trainfrac)*numElements)\n",
        "  for i in range(k):\n",
        "    start_ind = i*math.ceil(num_test)\n",
        "    test_fold = [i for i in range(start_ind, start_ind+num_test)]\n",
        "    train_fold = allinds[0:start_ind] + allinds[start_ind+num_test:]\n",
        "    test_splits.append(test_fold)\n",
        "    train_splits.append(train_fold)\n",
        "  return train_splits, test_splits"
      ],
      "execution_count": 0,
      "outputs": []
    },
    {
      "cell_type": "code",
      "metadata": {
        "id": "lgGkYxenpYY4",
        "colab_type": "code",
        "colab": {}
      },
      "source": [
        "train, test = makeKFoldSplit(5, 415)"
      ],
      "execution_count": 0,
      "outputs": []
    },
    {
      "cell_type": "code",
      "metadata": {
        "id": "iZNBo-ZgGbGh",
        "colab_type": "code",
        "colab": {}
      },
      "source": [
        "allTrainShuffle1, shuffle1test = deeplabcut.mergeandsplit(path_config_file, trainindex=0, uniform=False)\n",
        "shuffle1train = removeElementsInArr(allTrainShuffle1, lowerList=[0], numel=[48])[:48]\n",
        "shuffle2train = removeElementsInArr(allTrainShuffle1, lowerList=[73], numel=[74])\n",
        "\n",
        "print('Shuffle 1')\n",
        "print('All train: ', allTrainShuffle1)\n",
        "print('Filtered train: ', shuffle1train)\n",
        "print('Test: ', shuffle1test)\n",
        "\n",
        "print('Shuffle 2')\n",
        "# print('All train: ', allTrainShuffle2)\n",
        "print('Filtered train: ', shuffle2train)\n",
        "# print('Test: ', shuffle3test)\n"
      ],
      "execution_count": 0,
      "outputs": []
    },
    {
      "cell_type": "code",
      "metadata": {
        "id": "1EeWixRf-aUp",
        "colab_type": "code",
        "colab": {}
      },
      "source": [
        "deeplabcut.create_training_dataset(path_config_file, Shuffles=[13], trainIndexes=[train[4]], testIndexes=[test[4]], net_type='resnet_50', augmenter_type='imgaug')"
      ],
      "execution_count": 0,
      "outputs": []
    },
    {
      "cell_type": "markdown",
      "metadata": {
        "id": "L1lQOmFy-mm7",
        "colab_type": "text"
      },
      "source": [
        "# Start training\n",
        "\n"
      ]
    },
    {
      "cell_type": "code",
      "metadata": {
        "id": "saq5X9YADMc-",
        "colab_type": "code",
        "colab": {}
      },
      "source": [
        "deeplabcut.train_network(path_config_file, shuffle=13, max_snapshots_to_keep=8, displayiters=10,saveiters=10000,maxiters=40000)"
      ],
      "execution_count": 0,
      "outputs": []
    },
    {
      "cell_type": "markdown",
      "metadata": {
        "id": "Oql4zQ0z-9RP",
        "colab_type": "text"
      },
      "source": [
        "# Evaluate network\n",
        "\n"
      ]
    },
    {
      "cell_type": "code",
      "metadata": {
        "id": "PqSagN0H_Af0",
        "colab_type": "code",
        "colab": {}
      },
      "source": [
        "deeplabcut.evaluate_network(path_config_file, Shuffles=[13],plotting=False)"
      ],
      "execution_count": 0,
      "outputs": []
    },
    {
      "cell_type": "markdown",
      "metadata": {
        "id": "smkbNVYl_N4F",
        "colab_type": "text"
      },
      "source": [
        "# Analyze videos\n",
        "\n"
      ]
    },
    {
      "cell_type": "code",
      "metadata": {
        "id": "bGmFWJMq_Qoy",
        "colab_type": "code",
        "colab": {}
      },
      "source": [
        "deeplabcut.analyze_videos(path_config_file,videofile_path, videotype=VideoType)"
      ],
      "execution_count": 0,
      "outputs": []
    },
    {
      "cell_type": "markdown",
      "metadata": {
        "id": "W2RPxVLj_RjA",
        "colab_type": "text"
      },
      "source": [
        "# Label new video/s\n"
      ]
    },
    {
      "cell_type": "code",
      "metadata": {
        "id": "9xfxtnXD_Yo6",
        "colab_type": "code",
        "colab": {}
      },
      "source": [
        "deeplabcut.create_labeled_video(path_config_file,videofile_path, videotype=VideoType)"
      ],
      "execution_count": 0,
      "outputs": []
    }
  ]
}